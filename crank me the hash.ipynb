{
 "cells": [
  {
   "cell_type": "markdown",
   "metadata": {},
   "source": [
    "## Just Using itertools"
   ]
  },
  {
   "cell_type": "markdown",
   "metadata": {},
   "source": [
    "### Permutations"
   ]
  },
  {
   "cell_type": "code",
   "execution_count": 1,
   "metadata": {
    "collapsed": true
   },
   "outputs": [],
   "source": [
    "from itertools import permutations, combinations, combinations_with_replacement"
   ]
  },
  {
   "cell_type": "markdown",
   "metadata": {},
   "source": [
    "### Input"
   ]
  },
  {
   "cell_type": "markdown",
   "metadata": {},
   "source": [
    "Ordered provided params"
   ]
  },
  {
   "cell_type": "code",
   "execution_count": 13,
   "metadata": {
    "collapsed": true
   },
   "outputs": [],
   "source": [
    "params = params = [\"1154697128\",\"1479\",\"f0e514\",\"neptuneads\", \"1083974\"]"
   ]
  },
  {
   "cell_type": "markdown",
   "metadata": {},
   "source": [
    "### Expected hash"
   ]
  },
  {
   "cell_type": "code",
   "execution_count": 14,
   "metadata": {
    "collapsed": true
   },
   "outputs": [],
   "source": [
    "expected = 'e61754cfd4ececbb689d83caa28c472e'"
   ]
  },
  {
   "cell_type": "code",
   "execution_count": 15,
   "metadata": {},
   "outputs": [
    {
     "name": "stdout",
     "output_type": "stream",
     "text": [
      "['1154697128', '1154697128', '1154697128', '1154697128', '1154697128', '1154697128', '1154697128', '1154697128', '1154697128', '1154697128', '1154697128', '1154697128', '1154697128', '1154697128', '1154697128', '1154697128', '1154697128', '1154697128', '1154697128', '1154697128', '1154697128', '1154697128', '1154697128', '1154697128', '1479', '1479', '1479', '1479', '1479', '1479', '1479', '1479', '1479', '1479', '1479', '1479', '1479', '1479', '1479', '1479', '1479', '1479', '1479', '1479', '1479', '1479', '1479', '1479', 'f0e514', 'f0e514', 'f0e514', 'f0e514', 'f0e514', 'f0e514', 'f0e514', 'f0e514', 'f0e514', 'f0e514', 'f0e514', 'f0e514', 'f0e514', 'f0e514', 'f0e514', 'f0e514', 'f0e514', 'f0e514', 'f0e514', 'f0e514', 'f0e514', 'f0e514', 'f0e514', 'f0e514', 'neptuneads', 'neptuneads', 'neptuneads', 'neptuneads', 'neptuneads', 'neptuneads', 'neptuneads', 'neptuneads', 'neptuneads', 'neptuneads', 'neptuneads', 'neptuneads', 'neptuneads', 'neptuneads', 'neptuneads', 'neptuneads', 'neptuneads', 'neptuneads', 'neptuneads', 'neptuneads', 'neptuneads', 'neptuneads', 'neptuneads', 'neptuneads', '1083974', '1083974', '1083974', '1083974', '1083974', '1083974', '1083974', '1083974', '1083974', '1083974', '1083974', '1083974', '1083974', '1083974', '1083974', '1083974', '1083974', '1083974', '1083974', '1083974', '1083974', '1083974', '1083974', '1083974']\n"
     ]
    }
   ],
   "source": [
    "print([x[0] for x in permutations(params)])"
   ]
  },
  {
   "cell_type": "code",
   "execution_count": 16,
   "metadata": {},
   "outputs": [],
   "source": [
    "import hashlib\n",
    "    "
   ]
  },
  {
   "cell_type": "code",
   "execution_count": 17,
   "metadata": {
    "collapsed": true
   },
   "outputs": [],
   "source": [
    "md5 = hashlib.md5()"
   ]
  },
  {
   "cell_type": "code",
   "execution_count": 25,
   "metadata": {},
   "outputs": [
    {
     "name": "stdout",
     "output_type": "stream",
     "text": [
      "False\n",
      "4f6f5813a2e42f39310f03a95ec3d31d\n",
      "False\n",
      "c9a6053b51aff9a9f90ff39bab95c3da\n",
      "False\n",
      "36ee453ee8e172a9d80bbd1a6d0a110d\n",
      "False\n",
      "c82ad38993b6bd6651e4bbbf33376f63\n",
      "False\n",
      "ec2fbaf27d125acb0074a2059dfad37a\n",
      "False\n",
      "8b329cf3a56ebc2da51cb146e73c716e\n",
      "False\n",
      "a0c76a67cbff8261f0748f2d5412e78d\n",
      "False\n",
      "cd76e2ef6d4bf16e85b6aa557f39124f\n",
      "False\n",
      "a2958278a66091a11db1ab5704d9ca0c\n",
      "False\n",
      "633ead00d29ee9617239b40553814279\n",
      "False\n",
      "fb46d32f3394b51526a3529ae331f180\n",
      "False\n",
      "d80a081139f9a8cdff7027700cce8bb0\n",
      "False\n",
      "f2543ff599159c51bb67390c6e44875f\n",
      "False\n",
      "0584b8c4b9fb326d5f158bee8f027679\n",
      "False\n",
      "8183240f9d146f62516754b073e2d4e3\n",
      "False\n",
      "d88db6b9cddaec2bee66a506c1243fcc\n",
      "False\n",
      "5f188a8404801c4db8e0944f92f60dd8\n",
      "False\n",
      "260c1c9dfb4d73480f965640d53ad0bd\n",
      "False\n",
      "d02faa1fa28f736d931b73cbfad0da25\n",
      "False\n",
      "5a008309ed95250333192e865a73ad39\n",
      "False\n",
      "fd74fe9747430d7d2c13b4ef09a9543c\n",
      "False\n",
      "e36664bcd5d5cbd8ad0f2b78f00d47ff\n",
      "False\n",
      "06f1a32e4295b3f7b639db5ea52185fb\n",
      "False\n",
      "6bb2dc78bbfce5a74e928362a237ade3\n",
      "False\n",
      "0f35d23326b5ec9cf94668eb0c39377e\n",
      "False\n",
      "0ce3af21eeda70a05c43fa6ccc83b590\n",
      "False\n",
      "67b8465c4c8b39b7af2ae5e0bfc79ad5\n",
      "False\n",
      "d11f827b6e03cf4626a00dc8bcd0a5d2\n",
      "False\n",
      "0043cb3a216b34b279ad815a45ff7491\n",
      "False\n",
      "430e8a27ca6cad4023a78f8831f38a13\n",
      "False\n",
      "8bc0822620b278658c5af1bd2034fe5f\n",
      "False\n",
      "c4aa113c1db9f104ff856f205c45f0f8\n",
      "False\n",
      "0fedfb6ac99d2bbe1df12479a8f9a660\n",
      "False\n",
      "dfdd924ef265b06151bdcb60113a60b2\n",
      "False\n",
      "a4090411b1b6b70273e492e204c773e9\n",
      "False\n",
      "d75c49975ca3f1eb2e9b8f3c214b8b0a\n",
      "False\n",
      "a43e71c45258c345ad337237c4f4dcf5\n",
      "False\n",
      "a6258564c39077ccc9a545e809936fad\n",
      "False\n",
      "a434cb8f61d83e3e7b081eb9d5fa7e81\n",
      "False\n",
      "4192d761cd10be22561d7ae648864299\n",
      "False\n",
      "31a7ccc4e148b6f1ce5e957ed7d06f8b\n",
      "False\n",
      "e9dd910782a9c15440f8d06299dec3c1\n",
      "False\n",
      "8232eaf9b08004e869bcb48ffe8bbe4f\n",
      "False\n",
      "3f788cbf3e69881148a3c2f9038fc301\n",
      "False\n",
      "b2e9490d6bbe1a65f718e1e598731371\n",
      "False\n",
      "bc804714c600fe02497853834d53d0d6\n",
      "False\n",
      "2de94099913344e1747864778922f2ca\n",
      "False\n",
      "d946bf5ecf37de1abe37c38ea52f1a77\n",
      "False\n",
      "d9107ffc31dcf9bc0cb720e8fdedde45\n",
      "False\n",
      "b88e10b19911be96540f6d7221bb5f46\n",
      "False\n",
      "96f1c621f18c45be4b5708f19619e776\n",
      "False\n",
      "f338d07d4883a24a912018e9a2dbdde5\n",
      "False\n",
      "8ec6bff3a5b5d62887280a97b2f862d9\n",
      "False\n",
      "5d46cd7f928353ab11907557525f1b4d\n",
      "False\n",
      "a9ff991e6114242e54cccc080ff6656c\n",
      "False\n",
      "849e99d99f7934b16bfbafef51e43cb9\n",
      "False\n",
      "7a72fb908ff548d85a83a140ce9b4217\n",
      "False\n",
      "10e1d57934afc2db12ca9d67bdf0c25d\n",
      "False\n",
      "a0dbeaca2690d8bccb45732204ef7068\n",
      "False\n",
      "90be2b75e53d73695168ba95acf77b57\n",
      "False\n",
      "49690c55782569c541fa60b2d57ad30d\n",
      "False\n",
      "6d08a6bd6f7009ab9834ce4cb558c6c1\n",
      "False\n",
      "a1652580e836622107a43c41ed3e6348\n",
      "False\n",
      "e9acdc18fab5131eaf6fe8675c91a34a\n",
      "False\n",
      "c6fff5e2374b092dfd58c1bf7b9bf22b\n",
      "False\n",
      "fefaa0e02ad6105f94f48a3b6680dfba\n",
      "False\n",
      "f3779ce8627e4cb4a26d4c755fac0d0d\n",
      "False\n",
      "6b0eeb12baff19ccb96fd73db0059c3c\n",
      "False\n",
      "81c3d4b9787c7ed68b0bd658678fc870\n",
      "False\n",
      "85ffa301c5ed59e11618523831e63200\n",
      "False\n",
      "77c6ac2b40991097ff4b0df57a00abec\n",
      "False\n",
      "4b762964bbc57a0f76684302c2138849\n",
      "False\n",
      "caec1bd5910e70d2eb1e0395058925e2\n",
      "False\n",
      "ccdea035138ebea1b6c38b2766d12598\n",
      "False\n",
      "24d89be80a17f395d9a4495dbe0ccd70\n",
      "False\n",
      "385bed11c3de2532b6960c69fef58fd0\n",
      "False\n",
      "27c031091bcad5d26d75f5181086a943\n",
      "False\n",
      "e4085e534866a01506b68650449a59dc\n",
      "False\n",
      "d6d1748372b9d7f855df88313ad7317e\n",
      "False\n",
      "9566b3f489be26a52b63245c33470180\n",
      "False\n",
      "b77946cd1025f3274f79097ea4cd66df\n",
      "False\n",
      "647044c4cbcd6a5d601597d13ec76002\n",
      "False\n",
      "3690a81d4c73bce5db7981c372139250\n",
      "False\n",
      "6cb5fce6a3baffc159c63be1ce93dcaf\n",
      "False\n",
      "3a5ab5be5a5263f77ca242ed92ff4e6d\n",
      "False\n",
      "7d286e745c3d0ba2114abd128dffb71b\n",
      "False\n",
      "a1dc6a0877f45c2e8565b158a48311a1\n",
      "False\n",
      "902d4949c4ebfc9f4f24b8d02dfbb019\n",
      "False\n",
      "871f8f2448d783f1771e774a4752e443\n",
      "False\n",
      "7189e93f84cbf452aaaa6b516b9f4d57\n",
      "False\n",
      "e2c3a10bd8c334a851b2c373824cdf2f\n",
      "False\n",
      "5a405120f84455b7e268f6b24892df0d\n",
      "False\n",
      "73a8b86872fcdde622a8e9503bd74a80\n",
      "False\n",
      "813ab92f1d5f1ba078b2e9d7248614d4\n",
      "False\n",
      "905f99afce72104161fa1f541828f31f\n",
      "False\n",
      "56323057c848c8ec05a16d7d5bec11cc\n",
      "False\n",
      "23a9091b5e7cbfeca671841d178e13b9\n",
      "False\n",
      "b9cf7542fc487de34fa2938c09028c7a\n",
      "False\n",
      "34c22a7ee9ae2282040161f448b48bf3\n",
      "False\n",
      "ee1c904ce929d8a9abc6588c2124cb38\n",
      "False\n",
      "9c9d2d1047a273f3b52b5f4467a8ff43\n",
      "False\n",
      "8f2f105da443a8fd5a7c68cbad334c9f\n",
      "False\n",
      "19de9aaf3278cc88c21c256085012349\n",
      "False\n",
      "a1cf51d38b5bed08b40cd342fd5ab21f\n",
      "False\n",
      "226886547e3587c6e62cb03f1e14c25d\n",
      "False\n",
      "03703fbf5f9d381c7029848696047bfb\n",
      "False\n",
      "47184b1889095d7f1f26e7cf11f8ea08\n",
      "False\n",
      "d5c945305998acd7106dc1048cc83400\n",
      "False\n",
      "00526657004905cd80fcbcc9ace8bb78\n",
      "False\n",
      "72e49122e5f35fccce74fd65b191dbd1\n",
      "False\n",
      "2c2cacc4d71e8fe6b9f603fe202703f4\n",
      "False\n",
      "7606425a651eb088fd39c9691acbc517\n",
      "False\n",
      "0024706ea9c2a988ff00d60db9c597ac\n",
      "False\n",
      "2e513252ddd9d6a733989acf6a7ff459\n",
      "False\n",
      "64e7661f60d1aa0d3c576a70086fdd3f\n",
      "False\n",
      "d03a7d751a3bff73286827a244e3277c\n",
      "False\n",
      "f2a55f9564e7f495134556cd7b612777\n",
      "False\n",
      "df672a290cdd61bf3762ba587973863b\n",
      "False\n",
      "41c21596c3cabf601794cd1057755cd7\n",
      "False\n",
      "6f2a6a90c06078420e7195fd4e378964\n"
     ]
    }
   ],
   "source": [
    "for x in permutations(params):\n",
    "    md5.update(x[0].encode('UTF-8') + x[1].encode('UTF-8') + x[2].encode('UTF-8') + x[3].encode('UTF-8'))\n",
    "    print(md5.hexdigest() == expected)\n",
    "    print(md5.hexdigest())\n",
    "    \n",
    "    "
   ]
  },
  {
   "cell_type": "code",
   "execution_count": null,
   "metadata": {
    "collapsed": true
   },
   "outputs": [],
   "source": []
  }
 ],
 "metadata": {
  "kernelspec": {
   "display_name": "Python 3",
   "language": "python",
   "name": "python3"
  },
  "language_info": {
   "codemirror_mode": {
    "name": "ipython",
    "version": 3
   },
   "file_extension": ".py",
   "mimetype": "text/x-python",
   "name": "python",
   "nbconvert_exporter": "python",
   "pygments_lexer": "ipython3",
   "version": "3.5.2"
  }
 },
 "nbformat": 4,
 "nbformat_minor": 2
}

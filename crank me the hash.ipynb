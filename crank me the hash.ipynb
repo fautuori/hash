{
 "cells": [
  {
   "cell_type": "markdown",
   "metadata": {},
   "source": [
    "## Just Using itertools"
   ]
  },
  {
   "cell_type": "markdown",
   "metadata": {},
   "source": [
    "### Permutations"
   ]
  },
  {
   "cell_type": "code",
   "execution_count": 2,
   "metadata": {
    "collapsed": true
   },
   "outputs": [],
   "source": [
    "from itertools import permutations, combinations, combinations_with_replacement"
   ]
  },
  {
   "cell_type": "markdown",
   "metadata": {},
   "source": [
    "### Input"
   ]
  },
  {
   "cell_type": "markdown",
   "metadata": {},
   "source": [
    "Ordered provided params"
   ]
  },
  {
   "cell_type": "code",
   "execution_count": 3,
   "metadata": {
    "collapsed": true
   },
   "outputs": [],
   "source": [
    "params = params = [\"1154697128\",\"1479\",\"f0e514\",\"neptuneads\", \"1083974\"]"
   ]
  },
  {
   "cell_type": "markdown",
   "metadata": {},
   "source": [
    "### Expected hash"
   ]
  },
  {
   "cell_type": "code",
   "execution_count": 4,
   "metadata": {
    "collapsed": true
   },
   "outputs": [],
   "source": [
    "expected = 'e61754cfd4ececbb689d83caa28c472e'"
   ]
  },
  {
   "cell_type": "code",
   "execution_count": 11,
   "metadata": {},
   "outputs": [
    {
     "name": "stdout",
     "output_type": "stream",
     "text": [
      "[('1154697128', '1479', 'f0e514', 'neptuneads', '1083974'), ('1154697128', '1479', 'f0e514', '1083974', 'neptuneads'), ('1154697128', '1479', 'neptuneads', 'f0e514', '1083974'), ('1154697128', '1479', 'neptuneads', '1083974', 'f0e514'), ('1154697128', '1479', '1083974', 'f0e514', 'neptuneads'), ('1154697128', '1479', '1083974', 'neptuneads', 'f0e514'), ('1154697128', 'f0e514', '1479', 'neptuneads', '1083974'), ('1154697128', 'f0e514', '1479', '1083974', 'neptuneads'), ('1154697128', 'f0e514', 'neptuneads', '1479', '1083974'), ('1154697128', 'f0e514', 'neptuneads', '1083974', '1479'), ('1154697128', 'f0e514', '1083974', '1479', 'neptuneads'), ('1154697128', 'f0e514', '1083974', 'neptuneads', '1479'), ('1154697128', 'neptuneads', '1479', 'f0e514', '1083974'), ('1154697128', 'neptuneads', '1479', '1083974', 'f0e514'), ('1154697128', 'neptuneads', 'f0e514', '1479', '1083974'), ('1154697128', 'neptuneads', 'f0e514', '1083974', '1479'), ('1154697128', 'neptuneads', '1083974', '1479', 'f0e514'), ('1154697128', 'neptuneads', '1083974', 'f0e514', '1479'), ('1154697128', '1083974', '1479', 'f0e514', 'neptuneads'), ('1154697128', '1083974', '1479', 'neptuneads', 'f0e514'), ('1154697128', '1083974', 'f0e514', '1479', 'neptuneads'), ('1154697128', '1083974', 'f0e514', 'neptuneads', '1479'), ('1154697128', '1083974', 'neptuneads', '1479', 'f0e514'), ('1154697128', '1083974', 'neptuneads', 'f0e514', '1479'), ('1479', '1154697128', 'f0e514', 'neptuneads', '1083974'), ('1479', '1154697128', 'f0e514', '1083974', 'neptuneads'), ('1479', '1154697128', 'neptuneads', 'f0e514', '1083974'), ('1479', '1154697128', 'neptuneads', '1083974', 'f0e514'), ('1479', '1154697128', '1083974', 'f0e514', 'neptuneads'), ('1479', '1154697128', '1083974', 'neptuneads', 'f0e514'), ('1479', 'f0e514', '1154697128', 'neptuneads', '1083974'), ('1479', 'f0e514', '1154697128', '1083974', 'neptuneads'), ('1479', 'f0e514', 'neptuneads', '1154697128', '1083974'), ('1479', 'f0e514', 'neptuneads', '1083974', '1154697128'), ('1479', 'f0e514', '1083974', '1154697128', 'neptuneads'), ('1479', 'f0e514', '1083974', 'neptuneads', '1154697128'), ('1479', 'neptuneads', '1154697128', 'f0e514', '1083974'), ('1479', 'neptuneads', '1154697128', '1083974', 'f0e514'), ('1479', 'neptuneads', 'f0e514', '1154697128', '1083974'), ('1479', 'neptuneads', 'f0e514', '1083974', '1154697128'), ('1479', 'neptuneads', '1083974', '1154697128', 'f0e514'), ('1479', 'neptuneads', '1083974', 'f0e514', '1154697128'), ('1479', '1083974', '1154697128', 'f0e514', 'neptuneads'), ('1479', '1083974', '1154697128', 'neptuneads', 'f0e514'), ('1479', '1083974', 'f0e514', '1154697128', 'neptuneads'), ('1479', '1083974', 'f0e514', 'neptuneads', '1154697128'), ('1479', '1083974', 'neptuneads', '1154697128', 'f0e514'), ('1479', '1083974', 'neptuneads', 'f0e514', '1154697128'), ('f0e514', '1154697128', '1479', 'neptuneads', '1083974'), ('f0e514', '1154697128', '1479', '1083974', 'neptuneads'), ('f0e514', '1154697128', 'neptuneads', '1479', '1083974'), ('f0e514', '1154697128', 'neptuneads', '1083974', '1479'), ('f0e514', '1154697128', '1083974', '1479', 'neptuneads'), ('f0e514', '1154697128', '1083974', 'neptuneads', '1479'), ('f0e514', '1479', '1154697128', 'neptuneads', '1083974'), ('f0e514', '1479', '1154697128', '1083974', 'neptuneads'), ('f0e514', '1479', 'neptuneads', '1154697128', '1083974'), ('f0e514', '1479', 'neptuneads', '1083974', '1154697128'), ('f0e514', '1479', '1083974', '1154697128', 'neptuneads'), ('f0e514', '1479', '1083974', 'neptuneads', '1154697128'), ('f0e514', 'neptuneads', '1154697128', '1479', '1083974'), ('f0e514', 'neptuneads', '1154697128', '1083974', '1479'), ('f0e514', 'neptuneads', '1479', '1154697128', '1083974'), ('f0e514', 'neptuneads', '1479', '1083974', '1154697128'), ('f0e514', 'neptuneads', '1083974', '1154697128', '1479'), ('f0e514', 'neptuneads', '1083974', '1479', '1154697128'), ('f0e514', '1083974', '1154697128', '1479', 'neptuneads'), ('f0e514', '1083974', '1154697128', 'neptuneads', '1479'), ('f0e514', '1083974', '1479', '1154697128', 'neptuneads'), ('f0e514', '1083974', '1479', 'neptuneads', '1154697128'), ('f0e514', '1083974', 'neptuneads', '1154697128', '1479'), ('f0e514', '1083974', 'neptuneads', '1479', '1154697128'), ('neptuneads', '1154697128', '1479', 'f0e514', '1083974'), ('neptuneads', '1154697128', '1479', '1083974', 'f0e514'), ('neptuneads', '1154697128', 'f0e514', '1479', '1083974'), ('neptuneads', '1154697128', 'f0e514', '1083974', '1479'), ('neptuneads', '1154697128', '1083974', '1479', 'f0e514'), ('neptuneads', '1154697128', '1083974', 'f0e514', '1479'), ('neptuneads', '1479', '1154697128', 'f0e514', '1083974'), ('neptuneads', '1479', '1154697128', '1083974', 'f0e514'), ('neptuneads', '1479', 'f0e514', '1154697128', '1083974'), ('neptuneads', '1479', 'f0e514', '1083974', '1154697128'), ('neptuneads', '1479', '1083974', '1154697128', 'f0e514'), ('neptuneads', '1479', '1083974', 'f0e514', '1154697128'), ('neptuneads', 'f0e514', '1154697128', '1479', '1083974'), ('neptuneads', 'f0e514', '1154697128', '1083974', '1479'), ('neptuneads', 'f0e514', '1479', '1154697128', '1083974'), ('neptuneads', 'f0e514', '1479', '1083974', '1154697128'), ('neptuneads', 'f0e514', '1083974', '1154697128', '1479'), ('neptuneads', 'f0e514', '1083974', '1479', '1154697128'), ('neptuneads', '1083974', '1154697128', '1479', 'f0e514'), ('neptuneads', '1083974', '1154697128', 'f0e514', '1479'), ('neptuneads', '1083974', '1479', '1154697128', 'f0e514'), ('neptuneads', '1083974', '1479', 'f0e514', '1154697128'), ('neptuneads', '1083974', 'f0e514', '1154697128', '1479'), ('neptuneads', '1083974', 'f0e514', '1479', '1154697128'), ('1083974', '1154697128', '1479', 'f0e514', 'neptuneads'), ('1083974', '1154697128', '1479', 'neptuneads', 'f0e514'), ('1083974', '1154697128', 'f0e514', '1479', 'neptuneads'), ('1083974', '1154697128', 'f0e514', 'neptuneads', '1479'), ('1083974', '1154697128', 'neptuneads', '1479', 'f0e514'), ('1083974', '1154697128', 'neptuneads', 'f0e514', '1479'), ('1083974', '1479', '1154697128', 'f0e514', 'neptuneads'), ('1083974', '1479', '1154697128', 'neptuneads', 'f0e514'), ('1083974', '1479', 'f0e514', '1154697128', 'neptuneads'), ('1083974', '1479', 'f0e514', 'neptuneads', '1154697128'), ('1083974', '1479', 'neptuneads', '1154697128', 'f0e514'), ('1083974', '1479', 'neptuneads', 'f0e514', '1154697128'), ('1083974', 'f0e514', '1154697128', '1479', 'neptuneads'), ('1083974', 'f0e514', '1154697128', 'neptuneads', '1479'), ('1083974', 'f0e514', '1479', '1154697128', 'neptuneads'), ('1083974', 'f0e514', '1479', 'neptuneads', '1154697128'), ('1083974', 'f0e514', 'neptuneads', '1154697128', '1479'), ('1083974', 'f0e514', 'neptuneads', '1479', '1154697128'), ('1083974', 'neptuneads', '1154697128', '1479', 'f0e514'), ('1083974', 'neptuneads', '1154697128', 'f0e514', '1479'), ('1083974', 'neptuneads', '1479', '1154697128', 'f0e514'), ('1083974', 'neptuneads', '1479', 'f0e514', '1154697128'), ('1083974', 'neptuneads', 'f0e514', '1154697128', '1479'), ('1083974', 'neptuneads', 'f0e514', '1479', '1154697128')]\n"
     ]
    }
   ],
   "source": [
    "print([x for x in permutations(params)])"
   ]
  },
  {
   "cell_type": "code",
   "execution_count": 6,
   "metadata": {
    "collapsed": true
   },
   "outputs": [],
   "source": [
    "import hashlib\n",
    "    "
   ]
  },
  {
   "cell_type": "code",
   "execution_count": 49,
   "metadata": {
    "collapsed": true
   },
   "outputs": [],
   "source": [
    "md5 = hashlib.md5()\n",
    "sha1 = hashlib.sha1()\n",
    "sha224 = hashlib.sha224()\n",
    "sha256 = hashlib.sha256()\n",
    "sha384 = hashlib.sha384()\n",
    "sha512 = hashlib.sha512()\n",
    "md4 = hashlib.new('md4')\n",
    "encoding = 'UTF-8'"
   ]
  },
  {
   "cell_type": "markdown",
   "metadata": {},
   "source": [
    "# Permutations"
   ]
  },
  {
   "cell_type": "markdown",
   "metadata": {},
   "source": [
    "###  MD5"
   ]
  },
  {
   "cell_type": "code",
   "execution_count": 50,
   "metadata": {},
   "outputs": [],
   "source": [
    "for x in permutations(params):\n",
    "    md5.update(x[0].encode(encoding) + x[1].encode(encoding) + x[2].encode(encoding) + x[3].encode(encoding))\n",
    "    if md5.hexdigest() == expected:\n",
    "        print(md5.hexdigest())\n",
    "    \n",
    "    "
   ]
  },
  {
   "cell_type": "markdown",
   "metadata": {},
   "source": [
    "### MD4"
   ]
  },
  {
   "cell_type": "code",
   "execution_count": 51,
   "metadata": {
    "collapsed": true
   },
   "outputs": [],
   "source": [
    "for x in permutations(params):\n",
    "    md4.update(x[0].encode(encoding) + x[1].encode(encoding) + x[2].encode(encoding) + x[3].encode(encoding))\n",
    "    if md4.hexdigest() == expected:\n",
    "        print(md4.hexdigest())\n",
    "\n"
   ]
  },
  {
   "cell_type": "markdown",
   "metadata": {},
   "source": [
    "### Sha1"
   ]
  },
  {
   "cell_type": "code",
   "execution_count": 30,
   "metadata": {
    "collapsed": true
   },
   "outputs": [],
   "source": [
    "for x in permutations(params):\n",
    "    sha1.update(x[0].encode(encoding) + x[1].encode(encoding) + x[2].encode(encoding) + x[3].encode(encoding))\n",
    "    if sha1.hexdigest() == expected:\n",
    "        print(sha1.hexdigest())\n"
   ]
  },
  {
   "cell_type": "markdown",
   "metadata": {},
   "source": [
    "### sha224"
   ]
  },
  {
   "cell_type": "code",
   "execution_count": 33,
   "metadata": {},
   "outputs": [],
   "source": [
    "for x in permutations(params):\n",
    "    sha224.update(x[0].encode(encoding) + x[1].encode(encoding) + x[2].encode(encoding) + x[3].encode(encoding))\n",
    "    if sha224.hexdigest() == expected:\n",
    "        print('hey!')\n",
    "        print(sha224.hexdigest())"
   ]
  },
  {
   "cell_type": "markdown",
   "metadata": {},
   "source": [
    "### sha256"
   ]
  },
  {
   "cell_type": "code",
   "execution_count": 36,
   "metadata": {
    "collapsed": true
   },
   "outputs": [],
   "source": [
    "for x in permutations(params):\n",
    "    sha256.update(x[0].encode(encoding) + x[1].encode(encoding) + x[2].encode(encoding) + x[3].encode(encoding))\n",
    "    if sha256.hexdigest() == expected:\n",
    "        print('hey!')\n",
    "        print(sha256.hexdigest())"
   ]
  },
  {
   "cell_type": "markdown",
   "metadata": {},
   "source": [
    "### sha384"
   ]
  },
  {
   "cell_type": "code",
   "execution_count": 39,
   "metadata": {},
   "outputs": [],
   "source": [
    "for x in permutations(params):\n",
    "    sha384.update(x[0].encode(encoding) + x[1].encode(encoding) + x[2].encode(encoding) + x[3].encode(encoding))\n",
    "    if sha384.hexdigest() == expected:\n",
    "        print('hey!')\n",
    "        print(sha384.hexdigest())"
   ]
  },
  {
   "cell_type": "markdown",
   "metadata": {},
   "source": [
    "### sha512"
   ]
  },
  {
   "cell_type": "code",
   "execution_count": 40,
   "metadata": {
    "collapsed": true
   },
   "outputs": [],
   "source": [
    "for x in permutations(params):\n",
    "    sha512.update(x[0].encode(encoding) + x[1].encode(encoding) + x[2].encode(encoding) + x[3].encode(encoding))\n",
    "    if sha512.hexdigest() == expected:\n",
    "        print('hey!')\n",
    "        print(sha512.hexdigest())"
   ]
  },
  {
   "cell_type": "markdown",
   "metadata": {},
   "source": [
    "# Combinations 2"
   ]
  },
  {
   "cell_type": "markdown",
   "metadata": {},
   "source": [
    "Keep in mind phone presence should be mandatory, try forward and backward"
   ]
  },
  {
   "cell_type": "code",
   "execution_count": 41,
   "metadata": {},
   "outputs": [
    {
     "name": "stdout",
     "output_type": "stream",
     "text": [
      "[('1154697128', '1479'), ('1154697128', 'f0e514'), ('1154697128', 'neptuneads'), ('1154697128', '1083974'), ('1479', 'f0e514'), ('1479', 'neptuneads'), ('1479', '1083974'), ('f0e514', 'neptuneads'), ('f0e514', '1083974'), ('neptuneads', '1083974')]\n"
     ]
    }
   ],
   "source": [
    "print([x for x in combinations(params,2)])"
   ]
  },
  {
   "cell_type": "markdown",
   "metadata": {},
   "source": [
    "### md5"
   ]
  },
  {
   "cell_type": "code",
   "execution_count": 42,
   "metadata": {},
   "outputs": [],
   "source": [
    "for x in combinations(params, 2):\n",
    "    md5.update(x[0].encode(encoding) + x[1].encode(encoding))\n",
    "    if md5.hexdigest() == expected:\n",
    "        print(md5.hexdigest())\n",
    "    md5.update(x[1].encode(encoding) + x[0].encode(encoding))\n",
    "    if md5.hexdigest() == expected:\n",
    "        print(md5.hexdigest())\n",
    "\n"
   ]
  },
  {
   "cell_type": "markdown",
   "metadata": {},
   "source": [
    "### log2(n)"
   ]
  },
  {
   "cell_type": "code",
   "execution_count": 53,
   "metadata": {},
   "outputs": [],
   "source": [
    "for x in combinations(params,2):\n",
    "    # take first element with phones\n",
    "    for y in permutations(x):\n",
    "        md5.update(x[0].encode(encoding) + x[1].encode(encoding))\n",
    "        if md5.hexdigest() == expected:\n",
    "            print(md5.hexdigest())\n",
    "        sha1.update(x[0].encode(encoding) + x[1].encode(encoding))\n",
    "        if sha1.hexdigest() == expected:\n",
    "            print(sha1.hexdigest())\n",
    "        sha224.update(x[0].encode(encoding) + x[1].encode(encoding))\n",
    "        if sha224.hexdigest() == expected:\n",
    "            print(sha224.hexdigest())\n",
    "\n",
    "        sha384.update(x[0].encode(encoding) + x[1].encode(encoding))\n",
    "        if sha384.hexdigest() == expected:\n",
    "            print(sha384.hexdigest())\n",
    "        sha512.update(x[0].encode(encoding) + x[1].encode(encoding))\n",
    "        if sha512.hexdigest() == expected:\n",
    "            print(sha512.hexdigest())\n",
    "\n",
    "        md4.update(x[0].encode(encoding) + x[1].encode(encoding))\n",
    "        if md4.hexdigest() == expected:\n",
    "            print(md4.hexdigest())\n",
    "        "
   ]
  },
  {
   "cell_type": "markdown",
   "metadata": {},
   "source": [
    "# combination 3"
   ]
  },
  {
   "cell_type": "code",
   "execution_count": 54,
   "metadata": {
    "collapsed": true
   },
   "outputs": [],
   "source": [
    "for x in combinations(params,3):\n",
    "    # take first element with phones\n",
    "    for y in permutations(x):\n",
    "        md5.update(x[0].encode(encoding) + x[1].encode(encoding) + x[2].encode(encoding))\n",
    "        if md5.hexdigest() == expected:\n",
    "            print(md5.hexdigest())\n",
    "        sha1.update(x[0].encode(encoding) + x[1].encode(encoding) + x[2].encode(encoding))\n",
    "        if sha1.hexdigest() == expected:\n",
    "            print(sha1.hexdigest())\n",
    "        sha224.update(x[0].encode(encoding) + x[1].encode(encoding) + x[2].encode(encoding))\n",
    "        if sha224.hexdigest() == expected:\n",
    "            print(sha224.hexdigest())\n",
    "\n",
    "        sha384.update(x[0].encode(encoding) + x[1].encode(encoding) + x[2].encode(encoding))\n",
    "        if sha384.hexdigest() == expected:\n",
    "            print(sha384.hexdigest())\n",
    "        sha512.update(x[0].encode(encoding) + x[1].encode(encoding) + x[2].encode(encoding))\n",
    "        if sha512.hexdigest() == expected:\n",
    "            print(sha512.hexdigest())\n",
    "\n",
    "        md4.update(x[0].encode(encoding) + x[1].encode(encoding) + x[2].encode(encoding))\n",
    "        if md4.hexdigest() == expected:\n",
    "            print(md4.hexdigest())"
   ]
  },
  {
   "cell_type": "markdown",
   "metadata": {},
   "source": [
    "### Combination 4"
   ]
  },
  {
   "cell_type": "code",
   "execution_count": 56,
   "metadata": {},
   "outputs": [],
   "source": [
    "for x in combinations(params,4):\n",
    "    # take first element with phones\n",
    "    for y in permutations(x):\n",
    "        md5.update(x[0].encode(encoding) + x[1].encode(encoding) + x[2].encode(encoding) +  x[3].encode(encoding))\n",
    "        if md5.hexdigest() == expected:\n",
    "            print(md5.hexdigest())\n",
    "        sha1.update(x[0].encode(encoding) + x[1].encode(encoding) + x[2].encode(encoding) +  x[3].encode(encoding))\n",
    "        if sha1.hexdigest() == expected:\n",
    "            print(sha1.hexdigest())\n",
    "        sha224.update(x[0].encode(encoding) + x[1].encode(encoding) + x[2].encode(encoding) + x[3].encode(encoding))\n",
    "        if sha224.hexdigest() == expected:\n",
    "            print(sha224.hexdigest())\n",
    "\n",
    "        sha384.update(x[0].encode(encoding) + x[1].encode(encoding) + x[2].encode(encoding) +  x[3].encode(encoding))\n",
    "        if sha384.hexdigest() == expected:\n",
    "            print(sha384.hexdigest())\n",
    "        sha512.update(x[0].encode(encoding) + x[1].encode(encoding) + x[2].encode(encoding) +  x[3].encode(encoding))\n",
    "        if sha512.hexdigest() == expected:\n",
    "            print(sha512.hexdigest())\n",
    "\n",
    "        md4.update(x[0].encode(encoding) + x[1].encode(encoding) + x[2].encode(encoding) +  x[3].encode(encoding))\n",
    "        if md4.hexdigest() == expected:\n",
    "            print(md4.hexdigest())"
   ]
  },
  {
   "cell_type": "markdown",
   "metadata": {},
   "source": [
    "### Combination 5"
   ]
  },
  {
   "cell_type": "code",
   "execution_count": 58,
   "metadata": {},
   "outputs": [],
   "source": [
    "for x in combinations(params,5):\n",
    "    # take first element with phones\n",
    "    for y in permutations(x):\n",
    "        md5.update(x[0].encode(encoding) + x[1].encode(encoding) + x[2].encode(encoding) +  x[3].encode(encoding) + x[4].encode(encoding))\n",
    "        if md5.hexdigest() == expected:\n",
    "            print(md5.hexdigest())\n",
    "        sha1.update(x[0].encode(encoding) + x[1].encode(encoding) + x[2].encode(encoding) +  x[3].encode(encoding) + x[4].encode(encoding))\n",
    "        if sha1.hexdigest() == expected:\n",
    "            print(sha1.hexdigest())\n",
    "        sha224.update(x[0].encode(encoding) + x[1].encode(encoding) + x[2].encode(encoding) +  x[3].encode(encoding) + x[4].encode(encoding))\n",
    "        if sha224.hexdigest() == expected:\n",
    "            print(sha224.hexdigest())\n",
    "\n",
    "        sha384.update(x[0].encode(encoding) + x[1].encode(encoding) + x[2].encode(encoding) +  x[3].encode(encoding) + x[4].encode(encoding))\n",
    "        if sha384.hexdigest() == expected:\n",
    "            print(sha384.hexdigest())\n",
    "        sha512.update(x[0].encode(encoding) + x[1].encode(encoding) + x[2].encode(encoding) +  x[3].encode(encoding) + x[4].encode(encoding))\n",
    "        if sha512.hexdigest() == expected:\n",
    "            print(sha512.hexdigest())\n",
    "\n",
    "        md4.update(x[0].encode(encoding) + x[1].encode(encoding) + x[2].encode(encoding) +  x[3].encode(encoding) + x[4].encode(encoding))\n",
    "        if md4.hexdigest() == expected:\n",
    "            print(md4.hexdigest())"
   ]
  },
  {
   "cell_type": "markdown",
   "metadata": {},
   "source": [
    "# One fucking phone"
   ]
  },
  {
   "cell_type": "markdown",
   "metadata": {},
   "source": [
    "Assumption => params[0] == phoneNumber"
   ]
  },
  {
   "cell_type": "code",
   "execution_count": 64,
   "metadata": {},
   "outputs": [
    {
     "name": "stdout",
     "output_type": "stream",
     "text": [
      "False\n",
      "False\n",
      "False\n",
      "False\n",
      "False\n",
      "False\n"
     ]
    }
   ],
   "source": [
    "md5.update(params[0].encode(encoding))\n",
    "print (md5.hexdigest() == expected)\n",
    "\n",
    "md4.update(params[0].encode(encoding))\n",
    "print (md4.hexdigest() == expected)\n",
    "\n",
    "sha1.update(params[0].encode(encoding))\n",
    "print (sha1.hexdigest() == expected)\n",
    "\n",
    "sha224.update(params[0].encode(encoding))\n",
    "print (sha224.hexdigest() == expected)\n",
    "\n",
    "sha384.update(params[0].encode(encoding))\n",
    "print (sha384.hexdigest() == expected)\n",
    "\n",
    "sha512.update(params[0].encode(encoding))\n",
    "print (sha512.hexdigest() == expected)"
   ]
  },
  {
   "cell_type": "code",
   "execution_count": null,
   "metadata": {
    "collapsed": true
   },
   "outputs": [],
   "source": []
  }
 ],
 "metadata": {
  "kernelspec": {
   "display_name": "Python 3",
   "language": "python",
   "name": "python3"
  },
  "language_info": {
   "codemirror_mode": {
    "name": "ipython",
    "version": 3
   },
   "file_extension": ".py",
   "mimetype": "text/x-python",
   "name": "python",
   "nbconvert_exporter": "python",
   "pygments_lexer": "ipython3",
   "version": "3.5.2"
  }
 },
 "nbformat": 4,
 "nbformat_minor": 2
}
